{
 "cells": [
  {
   "cell_type": "code",
   "execution_count": 12,
   "metadata": {},
   "outputs": [],
   "source": [
    "%matplotlib inline\n",
    "import numpy as np\n",
    "import pandas as pd\n",
    "import re as re\n",
    "\n",
    "import matplotlib.pyplot as plt\n",
    "from sklearn.model_selection import StratifiedShuffleSplit\n",
    "\n",
    "\n",
    "# import tensorflow as tf\n",
    "# from tensorflow import keras\n",
    "# from tensorflow.keras.callbacks import History,LearningRateScheduler\n",
    "# from tensorflow.keras.layers import Dropout\n",
    "# print('TensorFlow %s, Keras %s, numpy %s, pandas %s'%(tf.__version__,keras.__version__, np.__version__,pd.__version__))\n",
    "__DEBUG__=False"
   ]
  },
  {
   "cell_type": "code",
   "execution_count": null,
   "metadata": {},
   "outputs": [],
   "source": [
    "train = pd.read_csv('data_concatener.csv', sep=';')\n",
    "test  = pd.read_csv('test_set_values.csv')\n",
    "full_data = [train, test]\n",
    "finalfile_index=test.id #Index des données de test pour le résultat final\n",
    "\n",
    "# Useless column\n",
    "train.drop('num_private', axis=1, inplace=True)\n",
    "train.drop('date_recorded', axis=1, inplace=True)\n",
    "\n",
    "# Refactoring value empty\n",
    "for dataset in full_data:\n",
    "    dataset.loc[dataset.public_meeting.isnull(), 'public_meeting'] = 0\n",
    "    dataset.loc[dataset.public_meeting == False, 'public_meeting'] = 0\n",
    "    dataset.loc[dataset.public_meeting == True, 'public_meeting'] = 1\n",
    "    dataset.loc[dataset.funder.isnull(), 'funder'] = 'Unknown'\n",
    "    dataset.loc[dataset.installer.isnull(), 'installer'] = 'Unknown'\n",
    "    dataset.loc[dataset.subvillage.isnull(), 'subvillage'] = 'None'\n",
    "    dataset.loc[dataset.scheme_management.isnull(), 'scheme_management'] = 'Other'\n",
    "    dataset.loc[dataset.scheme_name.isnull(), 'scheme_name'] = 'Unknown'\n",
    "    dataset.loc[dataset.permit.isnull(), 'permit'] = 0\n",
    "    dataset.loc[dataset.permit == False, 'permit'] = 0\n",
    "    dataset.loc[dataset.permit == True, 'permit'] = 1\n",
    "    dataset.loc[dataset.construction_year == 0, 'construction_year'] = np.NaN\n",
    "    construction_year_avg = dataset['construction_year'].mean() # Calcul de la valeur moyenne\n",
    "    construction_year_std = dataset['construction_year'].std()  # Calcul de l'écart type\n",
    "    construction_year_null_count = dataset['construction_year'].isnull().sum() # nombre de valeur nulle\n",
    "    construction_year_null_random_list = np.random.randint(construction_year_avg - construction_year_std, construction_year_avg + construction_year_std, size=construction_year_null_count)   \n",
    "    dataset.loc[np.isnan(dataset['construction_year']),'construction_year'] = construction_year_null_random_list    \n",
    "    dataset['construction_year'] = dataset['construction_year'].astype(int)\n",
    "\n",
    "#La fonction info() permet de répérer les colonnes avec des valeurs nulles\n",
    "print('\\nTrain data:')\n",
    "train.info()\n",
    "print('\\nTest data:')\n",
    "test.info()\n",
    "# print(train['public_meeting'])\n",
    "# Final output of the training data\n",
    "train.to_excel('output_final.xlsx')"
   ]
  }
 ],
 "metadata": {
  "kernelspec": {
   "display_name": "Python 3",
   "language": "python",
   "name": "python3"
  },
  "language_info": {
   "codemirror_mode": {
    "name": "ipython",
    "version": 3
   },
   "file_extension": ".py",
   "mimetype": "text/x-python",
   "name": "python",
   "nbconvert_exporter": "python",
   "pygments_lexer": "ipython3",
   "version": "3.7.3"
  }
 },
 "nbformat": 4,
 "nbformat_minor": 2
}
